{
 "cells": [
  {
   "cell_type": "code",
   "execution_count": 1,
   "id": "63054e28",
   "metadata": {},
   "outputs": [],
   "source": [
    "from tank01_api import NBAFantasyAPI"
   ]
  },
  {
   "cell_type": "code",
   "execution_count": 2,
   "id": "3cdc8ba2",
   "metadata": {},
   "outputs": [],
   "source": [
    "data = NBAFantasyAPI()"
   ]
  },
  {
   "cell_type": "markdown",
   "id": "1ef337f9",
   "metadata": {},
   "source": [
    "# Sample Documentation for tank01_api.py\n",
    "\n",
    "## Overview\n",
    "The NBAFantasyAPI class provides a comprehensive interface for retrieving NBA data optimized for fantasy sports applications. It integrates multiple data sources and provides cleaned, analysis-ready datasets.\n",
    "\n",
    "## Basic Usage\n",
    "\n",
    "### Initialize API\n",
    "```python\n",
    "from nba_api import NBAFantasyAPI\n",
    "\n",
    "# Initialize with default settings\n",
    "api = NBAFantasyAPI()\n",
    "\n",
    "# Initialize with custom configuration\n",
    "api = NBAFantasyAPI(\n",
    "    cache_enabled=True,\n",
    "    cache_duration=3600,  # 1 hour\n",
    "    rate_limit=1.0  # 1 request per second\n",
    ")\n",
    "```\n",
    "\n",
    "### Get Player Data\n",
    "```python\n",
    "# Get all players for a specific date\n",
    "date = '20250301'\n",
    "players = api.get_players(date=date)\n",
    "\n",
    "# Get specific player projections\n",
    "player_id = 2544  # LeBron James\n",
    "projections = api.get_player_projections(player_id, date=date)\n",
    "\n",
    "# Get player game logs\n",
    "game_logs = api.get_player_game_logs(\n",
    "    player_id=player_id,\n",
    "    season='2024-25',\n",
    "    last_n_games=10\n",
    ")\n",
    "```"
   ]
  },
  {
   "cell_type": "markdown",
   "id": "cioeosbykko",
   "metadata": {},
   "source": [
    "### Get Team and Game Data\n",
    "```python\n",
    "# Get all games for a specific date\n",
    "games = api.get_games(date=date)\n",
    "\n",
    "# Get team statistics\n",
    "team_stats = api.get_team_stats(\n",
    "    team_id=1610612747,  # Lakers\n",
    "    season='2024-25'\n",
    ")\n",
    "\n",
    "# Get injury reports\n",
    "injuries = api.get_injury_report(date=date)\n",
    "\n",
    "# Get starting lineups\n",
    "lineups = api.get_starting_lineups(date=date)\n",
    "```\n",
    "\n",
    "### Advanced Features\n",
    "\n",
    "#### Batch Processing\n",
    "```python\n",
    "# Get multiple players' data at once\n",
    "player_ids = [2544, 203999, 201939]  # LeBron, Nikola Jokic, Stephen Curry\n",
    "batch_data = api.get_players_batch(\n",
    "    player_ids=player_ids,\n",
    "    date=date,\n",
    "    include_projections=True,\n",
    "    include_game_logs=True,\n",
    "    last_n_games=15\n",
    ")\n",
    "```\n",
    "\n",
    "#### Statistical Analysis\n",
    "```python\n",
    "# Get advanced metrics\n",
    "advanced_stats = api.get_advanced_stats(\n",
    "    player_id=player_id,\n",
    "    stat_types=['PER', 'TS%', 'USG%', 'BPM'],\n",
    "    season='2024-25'\n",
    ")\n",
    "\n",
    "# Get player vs opponent matchup data\n",
    "matchup_data = api.get_player_vs_opponent(\n",
    "    player_id=player_id,\n",
    "    opponent_team_id=1610612744,  # Warriors\n",
    "    last_n_games=20\n",
    ")\n",
    "```"
   ]
  },
  {
   "cell_type": "code",
   "execution_count": null,
   "id": "291a5c09",
   "metadata": {},
   "outputs": [],
   "source": []
  },
  {
   "cell_type": "code",
   "execution_count": 3,
   "id": "4e10d5c4",
   "metadata": {},
   "outputs": [
    {
     "name": "stdout",
     "output_type": "stream",
     "text": [
      "✅ NBA Fantasy API initialized successfully!\n",
      "------------------------------------------------------------\n"
     ]
    }
   ],
   "source": [
    "# NBA Fantasy API Demo - Testing All Endpoints\n",
    "import pandas as pd\n",
    "from datetime import datetime\n",
    "\n",
    "# Initialize API\n",
    "api = NBAFantasyAPI()\n",
    "print(\"✅ NBA Fantasy API initialized successfully!\")\n",
    "print(\"-\" * 60)\n"
   ]
  },
  {
   "cell_type": "code",
   "execution_count": 4,
   "id": "29c03ac9",
   "metadata": {},
   "outputs": [
    {
     "name": "stdout",
     "output_type": "stream",
     "text": [
      "1️⃣ Testing get_games_for_date()\n",
      "✅ Found 9 games\n",
      "\n",
      "First 3 rows:\n",
      "             gameID teamIDAway away  gameDate teamIDHome home\n",
      "0  20240107_POR@BKN         25  POR  20240107          3  BKN\n",
      "1  20240107_MEM@PHO         15  MEM  20240107         24  PHO\n",
      "2  20240107_MIN@DAL         18  MIN  20240107          7  DAL\n",
      "\n",
      "============================================================\n",
      "\n"
     ]
    }
   ],
   "source": [
    "# 1. Get Games for Date\n",
    "print(\"1️⃣ Testing get_games_for_date()\")\n",
    "try:\n",
    "    games_df = api.get_games_for_date(\"20240107\")\n",
    "    print(f\"✅ Found {len(games_df)} games\")\n",
    "    print(\"\\nFirst 3 rows:\")\n",
    "    print(games_df.head(3))\n",
    "except Exception as e:\n",
    "    print(f\"❌ Error: {e}\")\n",
    "print(\"\\n\" + \"=\"*60 + \"\\n\")\n"
   ]
  },
  {
   "cell_type": "code",
   "execution_count": 22,
   "id": "f9e55985",
   "metadata": {},
   "outputs": [
    {
     "name": "stdout",
     "output_type": "stream",
     "text": [
      "2️⃣ Testing get_box_score()\n",
      "✅ Box score data shape: (22, 22)\n",
      "\n",
      "Columns: ['arena', 'arenaCapacity', 'attendance', 'away', 'awayPts', 'awayResult', 'currentlyPlaying', 'gameClock', 'gameDate', 'gameLocation', 'gameStatus', 'home', 'homePts', 'homeResult', 'lineScore', 'playerStats', 'referees', 'teamIDAway', 'teamIDHome', 'teamStats', 'gameID', 'gameStatusCode']\n",
      "\n",
      "First 3 rows:\n",
      "                       arena arenaCapacity attendance away awayPts awayResult  \\\n",
      "BKN          Barclays Center        17,732     17,732  POR     134          W   \n",
      "POR          Barclays Center        17,732     17,732  POR     134          W   \n",
      "94564426527  Barclays Center        17,732     17,732  POR     134          W   \n",
      "\n",
      "             currentlyPlaying gameClock  gameDate  gameLocation  ... homePts  \\\n",
      "BKN                       NaN  Final/OT  20240107  Brooklyn, NY  ...     127   \n",
      "POR                       NaN  Final/OT  20240107  Brooklyn, NY  ...     127   \n",
      "94564426527               NaN  Final/OT  20240107  Brooklyn, NY  ...     127   \n",
      "\n",
      "            homeResult                                          lineScore  \\\n",
      "BKN                  L  {'1Q': '30', 'teamIDHome': '3', 'teamID': '3',...   \n",
      "POR                  L  {'1Q': '26', 'teamID': '25', 'teamIDAway': '25...   \n",
      "94564426527          L                                                NaN   \n",
      "\n",
      "                                                   playerStats  \\\n",
      "BKN                                                        NaN   \n",
      "POR                                                        NaN   \n",
      "94564426527  {'gameID': '20240107_POR@BKN', 'fga': '2', 'as...   \n",
      "\n",
      "                                       referees teamIDAway teamIDHome  \\\n",
      "BKN          Andy Nagy, Tyler Ford, John Conley         25          3   \n",
      "POR          Andy Nagy, Tyler Ford, John Conley         25          3   \n",
      "94564426527  Andy Nagy, Tyler Ford, John Conley         25          3   \n",
      "\n",
      "                                                     teamStats  \\\n",
      "BKN          {'fga': '91', 'ast': '29', 'tptfgp': '37.8', '...   \n",
      "POR          {'fga': '95', 'ast': '21', 'tptfgp': '52.6', '...   \n",
      "94564426527                                                NaN   \n",
      "\n",
      "                       gameID gameStatusCode  \n",
      "BKN          20240107_POR@BKN              2  \n",
      "POR          20240107_POR@BKN              2  \n",
      "94564426527  20240107_POR@BKN              2  \n",
      "\n",
      "[3 rows x 22 columns]\n",
      "\n",
      "============================================================\n",
      "\n"
     ]
    }
   ],
   "source": [
    "# 2. Get Box Score\n",
    "print(\"2️⃣ Testing get_box_score()\")\n",
    "try:\n",
    "    # Using a sample game ID - you may need to get actual game ID from games_df above\n",
    "    box_score_df = api.get_box_score(\"20240107_POR@BKN\", fantasy_points=True, pts=1, reb=1.25, ast=1.5, stl=3, blk=3, tov=-1)\n",
    "    print(f\"✅ Box score data shape: {box_score_df.shape}\")\n",
    "    print(\"\\nColumns:\", list(box_score_df.columns))\n",
    "    print(\"\\nFirst 3 rows:\")\n",
    "    print(box_score_df.head(3))\n",
    "except Exception as e:\n",
    "    print(f\"❌ Error: {e}\")\n",
    "print(\"\\n\" + \"=\"*60 + \"\\n\")\n"
   ]
  },
  {
   "cell_type": "code",
   "execution_count": 26,
   "id": "4c27119a",
   "metadata": {},
   "outputs": [
    {
     "name": "stdout",
     "output_type": "stream",
     "text": [
      "3️⃣ Testing get_game_info()\n",
      "✅ Game info data shape: (0, 0)\n",
      "\n",
      "Columns: []\n",
      "\n",
      "First 3 rows:\n",
      "Empty DataFrame\n",
      "Columns: []\n",
      "Index: []\n",
      "\n",
      "============================================================\n",
      "\n"
     ]
    }
   ],
   "source": [
    "# 3. Get Game Info\n",
    "print(\"3️⃣ Testing get_game_info()\")\n",
    "try:\n",
    "    game_info_df = api.get_game_info('20240107')\n",
    "    print(f\"✅ Game info data shape: {game_info_df.shape}\")\n",
    "    print(\"\\nColumns:\", list(game_info_df.columns))\n",
    "    print(\"\\nFirst 3 rows:\")\n",
    "    print(game_info_df.head(3))\n",
    "except Exception as e:\n",
    "    print(f\"❌ Error: {e}\")\n",
    "print(\"\\n\" + \"=\"*60 + \"\\n\")\n"
   ]
  },
  {
   "cell_type": "code",
   "execution_count": 27,
   "id": "778a9610",
   "metadata": {},
   "outputs": [
    {
     "name": "stdout",
     "output_type": "stream",
     "text": [
      "4️⃣ Testing get_betting_odds()\n",
      "✅ Betting odds data shape: (9, 8)\n",
      "\n",
      "Columns: ['gameID', 'last_updated_e_time', 'gameDate', 'teamIDHome', 'teamIDAway', 'homeTeam', 'awayTeam', 'sportsBooks']\n",
      "\n",
      "First 3 rows:\n",
      "             gameID last_updated_e_time  gameDate teamIDHome teamIDAway  \\\n",
      "0  20240107_ATL@ORL  1704678725.8748915  20240107         22          1   \n",
      "1  20240107_DET@DEN  1704684370.0773087  20240107          8          9   \n",
      "2  20240107_LAC@LAL  1704684482.1073487  20240107         14         13   \n",
      "\n",
      "  homeTeam awayTeam                                        sportsBooks  \n",
      "0      ORL      ATL  [{'sportsBook': 'betmgm', 'odds': {'totalUnder...  \n",
      "1      DEN      DET  [{'sportsBook': 'betmgm', 'odds': {'totalUnder...  \n",
      "2      LAL      LAC  [{'sportsBook': 'betmgm', 'odds': {'totalUnder...  \n",
      "\n",
      "============================================================\n",
      "\n"
     ]
    }
   ],
   "source": [
    "# 4. Get Betting Odds\n",
    "print(\"4️⃣ Testing get_betting_odds()\")\n",
    "try:\n",
    "    odds_df = api.get_betting_odds(game_date=\"20240107\", item_format=\"list\")\n",
    "    print(f\"✅ Betting odds data shape: {odds_df.shape}\")\n",
    "    print(\"\\nColumns:\", list(odds_df.columns))\n",
    "    print(\"\\nFirst 3 rows:\")\n",
    "    print(odds_df.head(3))\n",
    "except Exception as e:\n",
    "    print(f\"❌ Error: {e}\")\n",
    "print(\"\\n\" + \"=\"*60 + \"\\n\")\n"
   ]
  },
  {
   "cell_type": "code",
   "execution_count": 8,
   "id": "6bdc758c",
   "metadata": {},
   "outputs": [
    {
     "name": "stdout",
     "output_type": "stream",
     "text": [
      "5️⃣ Testing get_teams()\n",
      "✅ Teams data shape: (30, 18)\n",
      "\n",
      "Columns: ['teamAbv', 'teamCity', 'currentStreak', 'loss', 'ppg', 'teamName', 'teamID', 'division', 'conferenceAbv', 'nbaComLogo2', 'nbaComLogo1', 'espnLogo1', 'oppg', 'wins', 'conference', 'topPerformers', 'defensiveStats', 'offensiveStats']\n",
      "\n",
      "First 3 rows:\n",
      "  teamAbv   teamCity                  currentStreak loss ppg      teamName  \\\n",
      "0     ORL    Orlando  {'result': '', 'length': '0'}    0   0         Magic   \n",
      "1     MIN  Minnesota  {'result': '', 'length': '0'}    0   0  Timberwolves   \n",
      "2     MIA      Miami  {'result': '', 'length': '0'}    0   0          Heat   \n",
      "\n",
      "  teamID   division conferenceAbv  \\\n",
      "0     22  Southeast          East   \n",
      "1     18  Northwest          West   \n",
      "2     16  Southeast          East   \n",
      "\n",
      "                                         nbaComLogo2  \\\n",
      "0  https://cdn.nba.com/teams/uploads/sites/161061...   \n",
      "1  https://cdn.nba.com/teams/uploads/sites/161061...   \n",
      "2                                                NaN   \n",
      "\n",
      "                                         nbaComLogo1  \\\n",
      "0  https://cdn.nba.com/logos/nba/1610612753/prima...   \n",
      "1  https://cdn.nba.com/logos/nba/1610612750/prima...   \n",
      "2  https://cdn.nba.com/logos/nba/1610612748/prima...   \n",
      "\n",
      "                                           espnLogo1 oppg wins  \\\n",
      "0  https://a.espncdn.com/combiner/i?img=/i/teamlo...    0    0   \n",
      "1  https://a.espncdn.com/combiner/i?img=/i/teamlo...    0    0   \n",
      "2  https://a.espncdn.com/combiner/i?img=/i/teamlo...    0    0   \n",
      "\n",
      "           conference                                      topPerformers  \\\n",
      "0  Eastern Conference  {'blk': {'total': '1.4', 'playerID': ['2887886...   \n",
      "1  Western Conference  {'blk': {'total': '1.4', 'playerID': ['2883893...   \n",
      "2  Eastern Conference  {'blk': {'total': '1.1', 'playerID': ['9407409...   \n",
      "\n",
      "                                      defensiveStats  \\\n",
      "0  {'blk': {'C': '1.5', 'SF': '0.83', 'SG': '0.57...   \n",
      "1  {'blk': {'C': '1.77', 'SF': '0.76', 'SG': '0.6...   \n",
      "2  {'blk': {'C': '1.57', 'SF': '0.98', 'SG': '0.7...   \n",
      "\n",
      "                                      offensiveStats  \n",
      "0  {'blk': {'C': '1.84', 'SF': '0.29', 'SG': '1.2...  \n",
      "1  {'blk': {'C': '2.15', 'SF': '1.48', 'SG': '0.9...  \n",
      "2  {'blk': {'C': '1.62', 'SF': '1.16', 'SG': '0.4...  \n",
      "\n",
      "============================================================\n",
      "\n"
     ]
    }
   ],
   "source": [
    "# 5. Get Teams\n",
    "print(\"5️⃣ Testing get_teams()\")\n",
    "try:\n",
    "    teams_df = api.get_teams(schedules=False, rosters=False, stats_to_get=\"averages\", top_performers=True, team_stats=True)\n",
    "    print(f\"✅ Teams data shape: {teams_df.shape}\")\n",
    "    print(\"\\nColumns:\", list(teams_df.columns))\n",
    "    print(\"\\nFirst 3 rows:\")\n",
    "    print(teams_df.head(3))\n",
    "except Exception as e:\n",
    "    print(f\"❌ Error: {e}\")\n",
    "print(\"\\n\" + \"=\"*60 + \"\\n\")\n"
   ]
  },
  {
   "cell_type": "code",
   "execution_count": 9,
   "id": "f74256ec",
   "metadata": {},
   "outputs": [
    {
     "name": "stdout",
     "output_type": "stream",
     "text": [
      "6️⃣ Testing get_games_for_player()\n",
      "✅ Player games data shape: (28, 78)\n",
      "\n",
      "Columns: ['20240419_CHI@MIA', '20240417_ATL@CHI', '20240414_CHI@NY', '20240411_CHI@DET', '20240409_NY@CHI', '20240407_CHI@ORL', '20240405_NY@CHI', '20240401_ATL@CHI', '20240331_CHI@MIN', '20240329_CHI@BKN', '20240327_IND@CHI', '20240325_WAS@CHI', '20240323_BOS@CHI', '20240321_CHI@HOU', '20240318_POR@CHI', '20240316_WAS@CHI', '20240314_LAC@CHI', '20240313_CHI@IND', '20240311_DAL@CHI', '20240309_CHI@LAC', '20240307_CHI@GS', '20240306_CHI@UTA', '20240304_CHI@SAC', '20240301_MIL@CHI', '20240228_CLE@CHI', '20240227_DET@CHI', '20240225_CHI@NO', '20240222_BOS@CHI', '20240214_CHI@CLE', '20240212_CHI@ATL', '20240210_CHI@ORL', '20240208_CHI@MEM', '20240206_MIN@CHI', '20240203_SAC@CHI', '20240131_CHI@CHA', '20240130_TOR@CHI', '20240128_CHI@POR', '20240125_CHI@LAL', '20240122_CHI@PHO', '20240120_MEM@CHI', '20240118_CHI@TOR', '20240115_CHI@CLE', '20240113_CHI@SA', '20240112_GS@CHI', '20240110_HOU@CHI', '20240108_CHI@CHA', '20240105_CHA@CHI', '20231223_CLE@CHI', '20231221_SA@CHI', '20231220_LAL@CHI', '20231218_CHI@PHI', '20231216_CHI@MIA', '20231214_CHI@MIA', '20231212_DEN@CHI', '20231211_CHI@MIL', '20231208_CHI@SA', '20231206_CHA@CHI', '20231202_NO@CHI', '20231130_MIL@CHI', '20231128_CHI@BOS', '20231126_CHI@BKN', '20231124_CHI@TOR', '20231122_CHI@OKC', '20231120_MIA@CHI', '20231118_MIA@CHI', '20231117_ORL@CHI', '20231115_ORL@CHI', '20231113_CHI@MIL', '20231112_DET@CHI', '20231108_PHO@CHI', '20231106_UTA@CHI', '20231104_CHI@DEN', '20231103_BKN@CHI', '20231101_CHI@DAL', '20231030_CHI@IND', '20231028_CHI@DET', '20231027_TOR@CHI', '20231025_OKC@CHI']\n",
      "\n",
      "First 3 rows:\n",
      "       20240419_CHI@MIA 20240417_ATL@CHI 20240414_CHI@NY 20240411_CHI@DET  \\\n",
      "DefReb               13               10               6                9   \n",
      "OffReb                1                2               5                2   \n",
      "PF                    3                0               2                3   \n",
      "\n",
      "       20240409_NY@CHI 20240407_CHI@ORL 20240405_NY@CHI 20240401_ATL@CHI  \\\n",
      "DefReb               3                4               7               13   \n",
      "OffReb               2                1               6                1   \n",
      "PF                   2                2               1                4   \n",
      "\n",
      "       20240331_CHI@MIN 20240329_CHI@BKN  ... 20231112_DET@CHI  \\\n",
      "DefReb                7                8  ...               10   \n",
      "OffReb                1                2  ...                2   \n",
      "PF                    1                2  ...                2   \n",
      "\n",
      "       20231108_PHO@CHI 20231106_UTA@CHI 20231104_CHI@DEN 20231103_BKN@CHI  \\\n",
      "DefReb                4                7                5                7   \n",
      "OffReb                2                1                2                6   \n",
      "PF                    5                1                3                1   \n",
      "\n",
      "       20231101_CHI@DAL 20231030_CHI@IND 20231028_CHI@DET 20231027_TOR@CHI  \\\n",
      "DefReb               15               12                4                9   \n",
      "OffReb                5                5                0                3   \n",
      "PF                    2                3                5                2   \n",
      "\n",
      "       20231025_OKC@CHI  \n",
      "DefReb                8  \n",
      "OffReb                1  \n",
      "PF                    2  \n",
      "\n",
      "[3 rows x 78 columns]\n",
      "\n",
      "============================================================\n",
      "\n"
     ]
    }
   ],
   "source": [
    "# 6. Get Games for Player\n",
    "print(\"6️⃣ Testing get_games_for_player()\")\n",
    "try:\n",
    "    # Using LeBron James player ID as example\n",
    "    player_games_df = api.get_games_for_player(\"28268405032\", season=\"2024\", fantasy_points=True, pts=1, reb=1.25, ast=1.5, stl=3, blk=3, tov=-1)\n",
    "    print(f\"✅ Player games data shape: {player_games_df.shape}\")\n",
    "    print(\"\\nColumns:\", list(player_games_df.columns))\n",
    "    print(\"\\nFirst 3 rows:\")\n",
    "    print(player_games_df.head(3))\n",
    "except Exception as e:\n",
    "    print(f\"❌ Error: {e}\")\n",
    "print(\"\\n\" + \"=\"*60 + \"\\n\")\n"
   ]
  },
  {
   "cell_type": "code",
   "execution_count": 10,
   "id": "72bbecf7",
   "metadata": {},
   "outputs": [
    {
     "name": "stdout",
     "output_type": "stream",
     "text": [
      "7️⃣ Testing get_scores_only()\n",
      "✅ Scores data shape: (15, 6)\n",
      "\n",
      "Columns: ['20240108_HOU@MIA', '20240108_CHI@CHA', '20240108_UTA@MIL', '20240108_OKC@WAS', '20240108_BOS@IND', '20240108_PHO@LAC']\n",
      "\n",
      "First 3 rows:\n",
      "           20240108_HOU@MIA 20240108_CHI@CHA 20240108_UTA@MIL  \\\n",
      "away                    HOU              CHI              UTA   \n",
      "home                    MIA              CHA              MIL   \n",
      "teamIDAway               11                5               29   \n",
      "\n",
      "           20240108_OKC@WAS 20240108_BOS@IND 20240108_PHO@LAC  \n",
      "away                    OKC              BOS              PHO  \n",
      "home                    WAS              IND              LAC  \n",
      "teamIDAway               21                2               24  \n",
      "\n",
      "============================================================\n",
      "\n"
     ]
    }
   ],
   "source": [
    "# 7. Get Scores Only (Daily Scoreboard)\n",
    "print(\"7️⃣ Testing get_scores_only()\")\n",
    "try:\n",
    "    scores_df = api.get_scores_only(game_date=\"20240108\", top_performers=True, lineups=True)\n",
    "    print(f\"✅ Scores data shape: {scores_df.shape}\")\n",
    "    print(\"\\nColumns:\", list(scores_df.columns))\n",
    "    print(\"\\nFirst 3 rows:\")\n",
    "    print(scores_df.head(3))\n",
    "except Exception as e:\n",
    "    print(f\"❌ Error: {e}\")\n",
    "print(\"\\n\" + \"=\"*60 + \"\\n\")\n"
   ]
  },
  {
   "cell_type": "code",
   "execution_count": 11,
   "id": "bf69a89e",
   "metadata": {},
   "outputs": [
    {
     "name": "stdout",
     "output_type": "stream",
     "text": [
      "8️⃣ Testing get_team_roster()\n",
      "✅ Team roster data shape: (22, 3)\n",
      "\n",
      "Columns: ['team', 'teamID', 'roster']\n",
      "\n",
      "First 3 rows:\n",
      "  team teamID                                             roster\n",
      "0  SAC     26  {'college': 'Alabama', 'fantasyProsLink': 'htt...\n",
      "1  SAC     26  {'college': 'Providence', 'fantasyProsLink': '...\n",
      "2  SAC     26  {'college': 'Kentucky', 'fantasyProsLink': 'ht...\n",
      "\n",
      "============================================================\n",
      "\n"
     ]
    }
   ],
   "source": [
    "# 8. Get Team Roster\n",
    "print(\"8️⃣ Testing get_team_roster()\")\n",
    "try:\n",
    "    roster_df = api.get_team_roster(team_abv=\"SAC\", stats_to_get=\"averages\")\n",
    "    print(f\"✅ Team roster data shape: {roster_df.shape}\")\n",
    "    print(\"\\nColumns:\", list(roster_df.columns))\n",
    "    print(\"\\nFirst 3 rows:\")\n",
    "    print(roster_df.head(3))\n",
    "except Exception as e:\n",
    "    print(f\"❌ Error: {e}\")\n",
    "print(\"\\n\" + \"=\"*60 + \"\\n\")\n"
   ]
  },
  {
   "cell_type": "code",
   "execution_count": 12,
   "id": "ecf955c5",
   "metadata": {},
   "outputs": [
    {
     "data": {
      "text/plain": [
       "dict_keys(['college', 'fantasyProsLink', 'jerseyNum', 'bRefID', 'espnName', 'yahooLink', 'sleeperBotID', 'fantasyProsPlayerID', 'nbaComLink', 'nbaComHeadshot', 'lastGamePlayed', 'espnLink', 'yahooPlayerID', 'pos', 'teamID', 'injury', 'nbaComName', 'rotoWirePlayerIDFull', 'rotoWirePlayerID', 'exp', 'height', 'nbaComID', 'espnHeadshot', 'espnID', 'weight', 'team', 'bRefName', 'espnShortName', 'bDay', 'shortName', 'longName', 'playerID', 'stats'])"
      ]
     },
     "execution_count": 12,
     "metadata": {},
     "output_type": "execute_result"
    }
   ],
   "source": [
    "roster_df['roster'].iloc[0].keys()"
   ]
  },
  {
   "cell_type": "code",
   "execution_count": 13,
   "id": "887c6e60",
   "metadata": {},
   "outputs": [
    {
     "name": "stdout",
     "output_type": "stream",
     "text": [
      "9️⃣ Testing get_injury_list()\n",
      "✅ Injury list data shape: (48, 5)\n",
      "\n",
      "Columns: ['designation', 'injDate', 'injReturnDate', 'playerID', 'description']\n",
      "\n",
      "First 3 rows:\n",
      "  designation   injDate injReturnDate      playerID  \\\n",
      "0  Day-To-Day  20250916      20251001   94914298027   \n",
      "1  Day-To-Day  20250916      20251001  887288811189   \n",
      "2  Day-To-Day  20250916      20251001  947640262289   \n",
      "\n",
      "                                         description  \n",
      "0  Jun 24: The Hornets announced Wednesday that B...  \n",
      "1  Jul 19: Bryant (undisclosed) won't play in Sat...  \n",
      "2  Jul 20: Durisic (hip/calf) won't play in Sunda...  \n",
      "\n",
      "============================================================\n",
      "\n"
     ]
    }
   ],
   "source": [
    "# 9. Get Injury List\n",
    "print(\"9️⃣ Testing get_injury_list()\")\n",
    "try:\n",
    "    injury_df = api.get_injury_list(number_of_days=\"7\")\n",
    "    print(f\"✅ Injury list data shape: {injury_df.shape}\")\n",
    "    print(\"\\nColumns:\", list(injury_df.columns))\n",
    "    print(\"\\nFirst 3 rows:\")\n",
    "    print(injury_df.head(3))\n",
    "except Exception as e:\n",
    "    print(f\"❌ Error: {e}\")\n",
    "print(\"\\n\" + \"=\"*60 + \"\\n\")\n"
   ]
  },
  {
   "cell_type": "code",
   "execution_count": 14,
   "id": "2916d37a",
   "metadata": {},
   "outputs": [
    {
     "name": "stdout",
     "output_type": "stream",
     "text": [
      "🔟 Testing get_player_info()\n",
      "✅ Player info data shape: (14, 26)\n",
      "\n",
      "Columns: ['espnID', 'espnName', 'nbaComName', 'college', 'weight', 'nbaComHeadshot', 'jerseyNum', 'team', 'espnLink', 'bDay', 'espnHeadshot', 'nbaComID', 'shortName', 'nbaComLink', 'injury', 'teamID', 'bRefName', 'pos', 'cbsPlayerID', 'longName', 'height', 'bRefID', 'lastGamePlayed', 'playerID', 'exp', 'stats']\n",
      "\n",
      "First 3 rows:\n",
      "    espnID             espnName           nbaComName      college weight  \\\n",
      "0     4305            Ish Smith            Ish Smith  Wake Forest    175   \n",
      "1  4396909        Aaron Nesmith        Aaron Nesmith   Vanderbilt    215   \n",
      "2  2578185  Dorian Finney-Smith  Dorian Finney-Smith      Florida    220   \n",
      "\n",
      "                                      nbaComHeadshot jerseyNum team  \\\n",
      "0  https://cdn.nba.com/headshots/nba/latest/1040x...        14  CHA   \n",
      "1  https://cdn.nba.com/headshots/nba/latest/1040x...        23  IND   \n",
      "2  https://cdn.nba.com/headshots/nba/latest/1040x...         —  HOU   \n",
      "\n",
      "                                            espnLink        bDay  ...  \\\n",
      "0  https://www.espn.com/nba/player/_/id/4305/ish-...    7/5/1988  ...   \n",
      "1  https://www.espn.com/nba/player/_/id/4396909/a...  10/16/1999  ...   \n",
      "2  https://www.espn.com/nba/player/_/id/2578185/d...    5/4/1993  ...   \n",
      "\n",
      "              bRefName pos cbsPlayerID             longName height     bRefID  \\\n",
      "0            Ish Smith  PG     1766484            Ish Smith    6-1  smithis01   \n",
      "1        Aaron Nesmith  SF     3041270        Aaron Nesmith    6-6  nesmiaa01   \n",
      "2  Dorian Finney-Smith  PF     2248003  Dorian Finney-Smith    6-7  finnedo01   \n",
      "\n",
      "     lastGamePlayed     playerID exp  \\\n",
      "0  20240209_CHA@MIL  28066603352  13   \n",
      "1  20250622_IND@OKC  28458892047   5   \n",
      "2  20250430_MIN@LAL  28748746099   9   \n",
      "\n",
      "                                               stats  \n",
      "0                                                 {}  \n",
      "1  {'blk': '0.4', 'fga': '8.4', 'DefReb': '3.1', ...  \n",
      "2  {'blk': '0.4', 'fga': '6.9', 'DefReb': '2.7', ...  \n",
      "\n",
      "[3 rows x 26 columns]\n",
      "\n",
      "============================================================\n",
      "\n"
     ]
    }
   ],
   "source": [
    "# 10. Get Player Info\n",
    "print(\"🔟 Testing get_player_info()\")\n",
    "try:\n",
    "    player_info_df = api.get_player_info(player_name=\"smith\", stats_to_get=\"averages\")\n",
    "    print(f\"✅ Player info data shape: {player_info_df.shape}\")\n",
    "    print(\"\\nColumns:\", list(player_info_df.columns))\n",
    "    print(\"\\nFirst 3 rows:\")\n",
    "    print(player_info_df.head(3))\n",
    "except Exception as e:\n",
    "    print(f\"❌ Error: {e}\")\n",
    "print(\"\\n\" + \"=\"*60 + \"\\n\")\n"
   ]
  },
  {
   "cell_type": "code",
   "execution_count": 15,
   "id": "0e63f3e3",
   "metadata": {},
   "outputs": [
    {
     "name": "stdout",
     "output_type": "stream",
     "text": [
      "1️⃣1️⃣ Testing get_player_list()\n",
      "✅ Player list data shape: (1136, 5)\n",
      "\n",
      "Columns: ['pos', 'playerID', 'team', 'longName', 'teamID']\n",
      "\n",
      "First 3 rows:\n",
      "  pos     playerID team     longName teamID\n",
      "0  PF  28368569499       Aric Holman       \n",
      "1  PG  94914298027  CHA  LaMelo Ball      4\n",
      "2  PG  94914479047  MIA  Tyler Herro     16\n",
      "\n",
      "============================================================\n",
      "\n"
     ]
    }
   ],
   "source": [
    "# 11. Get Player List\n",
    "print(\"1️⃣1️⃣ Testing get_player_list()\")\n",
    "try:\n",
    "    player_list_df = api.get_player_list()\n",
    "    print(f\"✅ Player list data shape: {player_list_df.shape}\")\n",
    "    print(\"\\nColumns:\", list(player_list_df.columns))\n",
    "    print(\"\\nFirst 3 rows:\")\n",
    "    print(player_list_df.head(3))\n",
    "except Exception as e:\n",
    "    print(f\"❌ Error: {e}\")\n",
    "print(\"\\n\" + \"=\"*60 + \"\\n\")\n"
   ]
  },
  {
   "cell_type": "code",
   "execution_count": 16,
   "id": "060c0d91",
   "metadata": {},
   "outputs": [
    {
     "name": "stdout",
     "output_type": "stream",
     "text": [
      "1️⃣2️⃣ Testing get_team_schedule()\n",
      "✅ Team schedule data shape: (96, 3)\n",
      "\n",
      "Columns: ['team', 'teamID', 'schedule']\n",
      "\n",
      "First 3 rows:\n",
      "  team teamID                                           schedule\n",
      "0  DEN      8  {'gameID': '20241024_OKC@DEN', 'seasonType': '...\n",
      "1  DEN      8  {'gameID': '20241026_LAC@DEN', 'seasonType': '...\n",
      "2  DEN      8  {'gameID': '20241028_DEN@TOR', 'seasonType': '...\n",
      "\n",
      "============================================================\n",
      "\n"
     ]
    }
   ],
   "source": [
    "# 12. Get Team Schedule\n",
    "print(\"1️⃣2️⃣ Testing get_team_schedule()\")\n",
    "try:\n",
    "    schedule_df = api.get_team_schedule(team_abv=\"DEN\", season=\"2025\")\n",
    "    print(f\"✅ Team schedule data shape: {schedule_df.shape}\")\n",
    "    print(\"\\nColumns:\", list(schedule_df.columns))\n",
    "    print(\"\\nFirst 3 rows:\")\n",
    "    print(schedule_df.head(3))\n",
    "except Exception as e:\n",
    "    print(f\"❌ Error: {e}\")\n",
    "print(\"\\n\" + \"=\"*60 + \"\\n\")\n"
   ]
  },
  {
   "cell_type": "code",
   "execution_count": 17,
   "id": "1418e643",
   "metadata": {},
   "outputs": [
    {
     "name": "stdout",
     "output_type": "stream",
     "text": [
      "1️⃣3️⃣ Testing get_dfs_salaries()\n",
      "❌ Error: All arrays must be of the same length\n",
      "\n",
      "============================================================\n",
      "\n"
     ]
    }
   ],
   "source": [
    "# 13. Get DFS Salaries\n",
    "print(\"1️⃣3️⃣ Testing get_dfs_salaries()\")\n",
    "try:\n",
    "    dfs_df = api.get_dfs_salaries(\"20250120\")\n",
    "    print(f\"✅ DFS salaries data shape: {dfs_df.shape}\")\n",
    "    print(\"\\nColumns:\", list(dfs_df.columns))\n",
    "    print(\"\\nFirst 3 rows:\")\n",
    "    print(dfs_df.head(3))\n",
    "except Exception as e:\n",
    "    print(f\"❌ Error: {e}\")\n",
    "print(\"\\n\" + \"=\"*60 + \"\\n\")\n"
   ]
  },
  {
   "cell_type": "code",
   "execution_count": 18,
   "id": "8cb520b3",
   "metadata": {},
   "outputs": [
    {
     "name": "stdout",
     "output_type": "stream",
     "text": [
      "1️⃣4️⃣ Testing get_adp()\n",
      "✅ ADP data shape: (262, 2)\n",
      "\n",
      "Columns: ['adpDate', 'adpList']\n",
      "\n",
      "First 3 rows:\n",
      "    adpDate                                            adpList\n",
      "0  20250924  {'overallADP': '1.0', 'playerID': '28908111729...\n",
      "1  20250924  {'overallADP': '2.5', 'playerID': '28778646789...\n",
      "2  20250924  {'overallADP': '2.5', 'playerID': '94374041448...\n",
      "\n",
      "============================================================\n",
      "\n"
     ]
    }
   ],
   "source": [
    "# 14. Get ADP (Average Draft Position)\n",
    "print(\"1️⃣4️⃣ Testing get_adp()\")\n",
    "try:\n",
    "    adp_df = api.get_adp(combine_guards=False, combine_forwards=False, combine_fc=False)\n",
    "    print(f\"✅ ADP data shape: {adp_df.shape}\")\n",
    "    print(\"\\nColumns:\", list(adp_df.columns))\n",
    "    print(\"\\nFirst 3 rows:\")\n",
    "    print(adp_df.head(3))\n",
    "except Exception as e:\n",
    "    print(f\"❌ Error: {e}\")\n",
    "print(\"\\n\" + \"=\"*60 + \"\\n\")\n"
   ]
  },
  {
   "cell_type": "code",
   "execution_count": 19,
   "id": "bc2c8b82",
   "metadata": {},
   "outputs": [
    {
     "name": "stdout",
     "output_type": "stream",
     "text": [
      "1️⃣5️⃣ Testing get_depth_charts()\n",
      "✅ Depth charts data shape: (30, 3)\n",
      "\n",
      "Columns: ['depthChart', 'teamAbv', 'teamID']\n",
      "\n",
      "First 3 rows:\n",
      "                                          depthChart teamAbv teamID\n",
      "0  {'SF': [{'depthPosition': 'SF1', 'longName': '...     ATL      1\n",
      "1  {'SF': [{'depthPosition': 'SF1', 'longName': '...     BOS      2\n",
      "2  {'SF': [{'depthPosition': 'SF1', 'longName': '...     BKN      3\n",
      "\n",
      "============================================================\n",
      "\n"
     ]
    }
   ],
   "source": [
    "# 15. Get Depth Charts\n",
    "print(\"1️⃣5️⃣ Testing get_depth_charts()\")\n",
    "try:\n",
    "    depth_df = api.get_depth_charts()\n",
    "    print(f\"✅ Depth charts data shape: {depth_df.shape}\")\n",
    "    print(\"\\nColumns:\", list(depth_df.columns))\n",
    "    print(\"\\nFirst 3 rows:\")\n",
    "    print(depth_df.head(3))\n",
    "except Exception as e:\n",
    "    print(f\"❌ Error: {e}\")\n",
    "print(\"\\n\" + \"=\"*60 + \"\\n\")\n"
   ]
  },
  {
   "cell_type": "code",
   "execution_count": 20,
   "id": "3b28f1fb",
   "metadata": {},
   "outputs": [
    {
     "name": "stdout",
     "output_type": "stream",
     "text": [
      "1️⃣6️⃣ Testing get_news()\n",
      "✅ News data shape: (10, 4)\n",
      "\n",
      "Columns: ['link', 'image', 'title', 'playerIDs']\n",
      "\n",
      "First 3 rows:\n",
      "                                                link  \\\n",
      "0  https://x.com/ShamsCharania/status/19706388700...   \n",
      "1       https://www.espn.com/nba/story/_/id/46360291   \n",
      "2  https://x.com/Tjonesonthenba/status/1970600687...   \n",
      "\n",
      "                                               image  \\\n",
      "0  https://a.espncdn.com/i/headshots/nba/players/...   \n",
      "1  https://a.espncdn.com/photo/2025/0613/r1506001...   \n",
      "2  https://a.espncdn.com/i/headshots/nba/players/...   \n",
      "\n",
      "                                               title       playerIDs  \n",
      "0  Morris agreed to a one-year deal with the Pace...   [28588130069]  \n",
      "1     Guard Morris agrees to 1-year deal with Pacers   [28588130069]  \n",
      "2  The 76ers Tony Jones of The Athletic Martin on...  [943340904839]  \n",
      "\n",
      "============================================================\n",
      "\n"
     ]
    }
   ],
   "source": [
    "# 16. Get News\n",
    "print(\"1️⃣6️⃣ Testing get_news()\")\n",
    "try:\n",
    "    news_df = api.get_news(recent_news=True, max_items=\"10\")\n",
    "    print(f\"✅ News data shape: {news_df.shape}\")\n",
    "    print(\"\\nColumns:\", list(news_df.columns))\n",
    "    print(\"\\nFirst 3 rows:\")\n",
    "    print(news_df.head(3))\n",
    "except Exception as e:\n",
    "    print(f\"❌ Error: {e}\")\n",
    "print(\"\\n\" + \"=\"*60 + \"\\n\")\n"
   ]
  },
  {
   "cell_type": "code",
   "execution_count": 21,
   "id": "972e1107",
   "metadata": {},
   "outputs": [
    {
     "name": "stdout",
     "output_type": "stream",
     "text": [
      "1️⃣7️⃣ Testing get_projections()\n",
      "✅ Projections data shape: (0, 1)\n",
      "\n",
      "Columns: ['playerProjections']\n",
      "\n",
      "First 3 rows:\n",
      "Empty DataFrame\n",
      "Columns: [playerProjections]\n",
      "Index: []\n",
      "\n",
      "============================================================\n",
      "\n"
     ]
    }
   ],
   "source": [
    "# 17. Get Projections\n",
    "print(\"1️⃣7️⃣ Testing get_projections()\")\n",
    "try:\n",
    "    projections_df = api.get_projections(num_of_days=\"7\", pts=1, reb=1.25, tov=-1, stl=3, blk=3, ast=1.5, mins=0)\n",
    "    print(f\"✅ Projections data shape: {projections_df.shape}\")\n",
    "    print(\"\\nColumns:\", list(projections_df.columns))\n",
    "    print(\"\\nFirst 3 rows:\")\n",
    "    print(projections_df.head(3))\n",
    "except Exception as e:\n",
    "    print(f\"❌ Error: {e}\")\n",
    "print(\"\\n\" + \"=\"*60 + \"\\n\")\n"
   ]
  },
  {
   "cell_type": "markdown",
   "id": "5d5040f8",
   "metadata": {},
   "source": [
    "## Summary\n",
    "\n",
    "✅ **NBA Fantasy API Testing Complete!**\n",
    "\n",
    "The notebook above demonstrates all 17 endpoints available in the NBAFantasyAPI class:\n",
    "\n",
    "1. **get_games_for_date()** - Get games for a specific date\n",
    "2. **get_box_score()** - Get detailed box scores with fantasy points\n",
    "3. **get_game_info()** - Get general game information\n",
    "4. **get_betting_odds()** - Get betting odds for games\n",
    "5. **get_teams()** - Get team information with stats and rosters\n",
    "6. **get_games_for_player()** - Get all games for a specific player\n",
    "7. **get_scores_only()** - Get live scoreboard data\n",
    "8. **get_team_roster()** - Get team rosters with player stats\n",
    "9. **get_injury_list()** - Get injury reports and history\n",
    "10. **get_player_info()** - Search and get player information\n",
    "11. **get_player_list()** - Get complete list of all NBA players\n",
    "12. **get_team_schedule()** - Get team schedules by season\n",
    "13. **get_dfs_salaries()** - Get daily fantasy sports salaries\n",
    "14. **get_adp()** - Get average draft position data\n",
    "15. **get_depth_charts()** - Get team depth charts\n",
    "16. **get_news()** - Get NBA news and headlines\n",
    "17. **get_projections()** - Get fantasy point projections\n",
    "\n",
    "Each endpoint returns a pandas DataFrame that can be easily analyzed and manipulated for fantasy basketball research and analysis.\n"
   ]
  },
  {
   "cell_type": "markdown",
   "id": "211lppmvmpn",
   "metadata": {},
   "source": [
    "## Data Structures\n",
    "\n",
    "### Player Object\n",
    "```python\n",
    "{\n",
    "    'player_id': 2544,\n",
    "    'name': 'LeBron James',\n",
    "    'team_id': 1610612747,\n",
    "    'team_abbreviation': 'LAL',\n",
    "    'position': 'SF',\n",
    "    'eligible_positions': ['SF', 'PF'],\n",
    "    'salary': 11000,\n",
    "    'is_active': True,\n",
    "    'injury_status': 'Healthy',\n",
    "    'projected_minutes': 35.2,\n",
    "    'projected_points': 54.8,\n",
    "    'projected_stats': {\n",
    "        'points': 25.2,\n",
    "        'rebounds': 7.8,\n",
    "        'assists': 7.1,\n",
    "        'steals': 1.3,\n",
    "        'blocks': 0.6,\n",
    "        'turnovers': 3.4,\n",
    "        'field_goals_made': 9.2,\n",
    "        'field_goals_attempted': 18.1,\n",
    "        'three_pointers_made': 2.1,\n",
    "        'three_pointers_attempted': 6.2,\n",
    "        'free_throws_made': 4.7,\n",
    "        'free_throws_attempted': 6.1\n",
    "    }\n",
    "}\n",
    "```\n",
    "\n",
    "### Game Object\n",
    "```python\n",
    "{\n",
    "    'game_id': '0022400752',\n",
    "    'date': '2025-03-01',\n",
    "    'home_team': {\n",
    "        'team_id': 1610612747,\n",
    "        'abbreviation': 'LAL',\n",
    "        'name': 'Los Angeles Lakers'\n",
    "    },\n",
    "    'away_team': {\n",
    "        'team_id': 1610612744,\n",
    "        'abbreviation': 'GSW',\n",
    "        'name': 'Golden State Warriors'\n",
    "    },\n",
    "    'game_time': '22:00:00',\n",
    "    'game_status': 'Scheduled',\n",
    "    'total_line': 225.5,\n",
    "    'spread': {'home': -2.5, 'away': 2.5},\n",
    "    'moneyline': {'home': -140, 'away': 120}\n",
    "}\n",
    "```"
   ]
  },
  {
   "cell_type": "markdown",
   "id": "6bac29d7k5d",
   "metadata": {},
   "source": [
    "## Error Handling\n",
    "\n",
    "The API implements comprehensive error handling:\n",
    "\n",
    "```python\n",
    "from nba_api import NBAFantasyAPI, APIError, RateLimitError, DataNotFoundError\n",
    "\n",
    "try:\n",
    "    api = NBAFantasyAPI()\n",
    "    players = api.get_players(date='20250301')\n",
    "except RateLimitError as e:\n",
    "    print(f\"Rate limit exceeded: {e}\")\n",
    "    # Implement exponential backoff\n",
    "except DataNotFoundError as e:\n",
    "    print(f\"No data found: {e}\")\n",
    "    # Handle missing data gracefully  \n",
    "except APIError as e:\n",
    "    print(f\"API error: {e}\")\n",
    "    # Log error and retry\n",
    "```\n",
    "\n",
    "## Configuration Options\n",
    "\n",
    "```python\n",
    "config = {\n",
    "    'cache_enabled': True,\n",
    "    'cache_duration': 3600,  # seconds\n",
    "    'rate_limit': 1.0,  # requests per second\n",
    "    'timeout': 30,  # request timeout\n",
    "    'retries': 3,  # number of retries\n",
    "    'backoff_factor': 2.0,  # exponential backoff\n",
    "    'user_agent': 'NBA-Fantasy-API/1.0',\n",
    "    'base_urls': {\n",
    "        'nba_stats': 'https://stats.nba.com/stats/',\n",
    "        'tank01': 'https://tank01.com/api/',\n",
    "        'odds': 'https://api.the-odds-api.com/'\n",
    "    }\n",
    "}\n",
    "\n",
    "api = NBAFantasyAPI(config=config)\n",
    "```\n",
    "\n",
    "## Performance Tips\n",
    "\n",
    "1. **Use batch operations** when possible to reduce API calls\n",
    "2. **Enable caching** for frequently accessed data\n",
    "3. **Implement rate limiting** to avoid being blocked\n",
    "4. **Use async methods** for concurrent requests\n",
    "5. **Filter data early** to reduce memory usage"
   ]
  }
 ],
 "metadata": {
  "kernelspec": {
   "display_name": "datascience",
   "language": "python",
   "name": "python3"
  },
  "language_info": {
   "codemirror_mode": {
    "name": "ipython",
    "version": 3
   },
   "file_extension": ".py",
   "mimetype": "text/x-python",
   "name": "python",
   "nbconvert_exporter": "python",
   "pygments_lexer": "ipython3",
   "version": "3.13.5"
  }
 },
 "nbformat": 4,
 "nbformat_minor": 5
}
